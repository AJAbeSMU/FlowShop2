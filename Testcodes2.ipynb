{
  "nbformat": 4,
  "nbformat_minor": 0,
  "metadata": {
    "colab": {
      "name": "Testcodes2.ipynb",
      "provenance": [],
      "authorship_tag": "ABX9TyNS0mZbyAxRqvX4p2o2IN6h",
      "include_colab_link": true
    },
    "kernelspec": {
      "name": "python3",
      "display_name": "Python 3"
    },
    "language_info": {
      "name": "python"
    }
  },
  "cells": [
    {
      "cell_type": "markdown",
      "metadata": {
        "id": "view-in-github",
        "colab_type": "text"
      },
      "source": [
        "<a href=\"https://colab.research.google.com/github/AJAbeSMU/FlowShop2/blob/main/Testcodes2.ipynb\" target=\"_parent\"><img src=\"https://colab.research.google.com/assets/colab-badge.svg\" alt=\"Open In Colab\"/></a>"
      ]
    },
    {
      "cell_type": "code",
      "execution_count": null,
      "metadata": {
        "colab": {
          "base_uri": "https://localhost:8080/"
        },
        "id": "Hj0wotKz5SFu",
        "outputId": "1e223525-167c-4144-c4cb-5e50884ed480"
      },
      "outputs": [
        {
          "output_type": "stream",
          "name": "stdout",
          "text": [
            "Matrix =  [[7, 6, 5, 8], [5, 12, 4, 3], [2, 4, 5, 3]]\n",
            "A =  [7, 6, 5, 8]\n",
            "B =  [5, 12, 4, 3]\n",
            "C =  [2, 4, 5, 3]\n",
            "Xi [12, 18, 9, 11]\n",
            "Yi [7, 16, 9, 6]\n",
            "min element =  6 ,min element index =  3\n"
          ]
        }
      ],
      "source": [
        "m = [[7, 6, 5, 8], [5, 12, 4, 3], [2, 4, 5, 3]]\n",
        "print('Matrix = ',m)\n",
        "n = len(m[0])\n",
        "\n",
        "# creating first matrix\n",
        "A = m[0]\n",
        " \n",
        "# creating second matrix\n",
        "B = m[1]\n",
        "\n",
        "# creating third matrix\n",
        "C = m[2]\n",
        " \n",
        "print(\"A = \",A)\n",
        "print(\"B = \",B)\n",
        "print(\"C = \",C)\n",
        " \n",
        "# AB = A+B\n",
        "AB = []\n",
        "for i in range(n) :\n",
        "   AB.append(A[i]+B[i])\n",
        "print(\"Xi\",AB)\n",
        "\n",
        "# BC = B+C\n",
        "BC = []\n",
        "for i in range(n) :\n",
        "   BC.append(B[i]+C[i])\n",
        "print(\"Yi\",BC)\n",
        "\n",
        "# AB or BC contains min element\n",
        "ABminElement = min(AB)\n",
        "BCminElement = min(BC)\n",
        "\n",
        "if ( ABminElement < BCminElement ) :\n",
        "   minElement = ABminElement\n",
        "   minElementIndex = AB.index(minElement)\n",
        "else :\n",
        "   minElement = BCminElement\n",
        "   minElementIndex = BC.index(minElement)\n",
        "print(\"min element = \",minElement,\",min element index = \",minElementIndex)\n"
      ]
    },
    {
      "cell_type": "code",
      "source": [
        "m1 = [[12, 18, 9, 11], [7, 16, 9, 6]]\n",
        "print('Matrix = ',m1)\n",
        "\n",
        "# creating first matrix\n",
        "A = m[0]\n",
        " \n",
        "# creating second matrix\n",
        "B = m[1]\n",
        "\n",
        "print(\"Xi = \",A)\n",
        "print(\"Yi = \",B)"
      ],
      "metadata": {
        "colab": {
          "base_uri": "https://localhost:8080/"
        },
        "id": "fNPby5kS7FpK",
        "outputId": "c0ba2668-5103-4857-a6b7-837e35270949"
      },
      "execution_count": null,
      "outputs": [
        {
          "output_type": "stream",
          "name": "stdout",
          "text": [
            "Matrix =  [[12, 18, 9, 11], [7, 16, 9, 6]]\n",
            "Xi =  [12, 18, 9, 11]\n",
            "Yi =  [7, 16, 9, 6]\n"
          ]
        }
      ]
    },
    {
      "cell_type": "code",
      "source": [
        ""
      ],
      "metadata": {
        "colab": {
          "base_uri": "https://localhost:8080/"
        },
        "id": "p1-uk_Gc98ir",
        "outputId": "c63fa46b-9110-475e-e6c8-93b9477c7970"
      },
      "execution_count": null,
      "outputs": [
        {
          "output_type": "stream",
          "name": "stdout",
          "text": [
            "18\n",
            "16\n"
          ]
        }
      ]
    }
  ]
}