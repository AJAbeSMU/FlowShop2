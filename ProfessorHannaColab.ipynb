{
  "nbformat": 4,
  "nbformat_minor": 0,
  "metadata": {
    "colab": {
      "name": "ProfessorHannaColab.ipynb",
      "provenance": [],
      "authorship_tag": "ABX9TyORNJYifzQIfk3Gtx5a5aBv",
      "include_colab_link": true
    },
    "kernelspec": {
      "name": "python3",
      "display_name": "Python 3"
    },
    "language_info": {
      "name": "python"
    }
  },
  "cells": [
    {
      "cell_type": "markdown",
      "metadata": {
        "id": "view-in-github",
        "colab_type": "text"
      },
      "source": [
        "<a href=\"https://colab.research.google.com/github/AJAbeSMU/FlowShop2/blob/main/ProfessorHannaColab.ipynb\" target=\"_parent\"><img src=\"https://colab.research.google.com/assets/colab-badge.svg\" alt=\"Open In Colab\"/></a>"
      ]
    },
    {
      "cell_type": "code",
      "execution_count": 1,
      "metadata": {
        "colab": {
          "base_uri": "https://localhost:8080/"
        },
        "id": "VhVqDXS_92FS",
        "outputId": "dcb39f0c-5fd6-4ce6-cc11-c73ed1f7c27a"
      },
      "outputs": [
        {
          "output_type": "stream",
          "name": "stdout",
          "text": [
            "matrix =  [[7, 6, 5, 8], [5, 12, 4, 3], [2, 4, 5, 3]]\n",
            "A =  [7, 6, 5, 8]\n",
            "B =  [5, 12, 4, 3]\n",
            "C =  [2, 4, 5, 3]\n",
            "Xi =  [12, 18, 9, 11]\n",
            "Yi =  [7, 16, 9, 6]\n",
            "min Yi element = 6, index = 3 (Job#4)\n",
            "min Xi element = 9, index = 2 (Job#3)\n",
            "min Yi element = 7, index = 0 (Job#1)\n",
            "min Xi element = 18, index = 1 (Job#2)\n"
          ]
        }
      ],
      "source": [
        "m = [[7, 6, 5, 8], [5, 12, 4, 3], [2, 4, 5, 3]]\n",
        "print('matrix = ',m)\n",
        "\n",
        "n = len(m[0])\n",
        "\n",
        "A = m[0] ; B = m[1] ; C = m[2]\n",
        "print(\"A = \",A)\n",
        "print(\"B = \",B)\n",
        "print(\"C = \",C)\n",
        "  \n",
        "# Xi = A+B\n",
        "Xi = []\n",
        "for i in range(n) :\n",
        "   Xi.append(A[i]+B[i]) \n",
        "print(\"Xi = \",Xi)\n",
        "\n",
        "# Yi = B+C\n",
        "Yi = []\n",
        "for i in range(n) :\n",
        "   Yi.append(B[i]+C[i]) \n",
        "print(\"Yi = \",Yi)\n",
        "\n",
        "INFINITY = int(10E6)\n",
        "\n",
        "#===================================================================\n",
        "# Is this a valid assumption?!\n",
        "#    When n is even, start with Yi, else n is odd, start with Xi\n",
        "#===================================================================\n",
        "if ( n%2 == 0 ) :\n",
        "   useXi = False\n",
        "else :\n",
        "   useXi = True\n",
        "\n",
        "for job in range(n) :\n",
        "   if ( useXi ) :\n",
        "      minElement = min(Xi)\n",
        "      minElementIndex = Xi.index(minElement)\n",
        "      print(\"min Xi element = {:d}, index = {:d} (Job#{:d})\".format(minElement,minElementIndex,minElementIndex+1))\n",
        "   else :\n",
        "      minElement = min(Yi)\n",
        "      minElementIndex = Yi.index(minElement)\n",
        "      print(\"min Yi element = {:d}, index = {:d} (Job#{:d})\".format(minElement,minElementIndex,minElementIndex+1))\n",
        "   Xi[minElementIndex] = INFINITY\n",
        "   Yi[minElementIndex] = INFINITY\n",
        "   useXi = not useXi"
      ]
    }
  ]
}