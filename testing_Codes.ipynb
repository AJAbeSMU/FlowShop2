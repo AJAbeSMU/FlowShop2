{
  "nbformat": 4,
  "nbformat_minor": 0,
  "metadata": {
    "colab": {
      "name": "testing Codes.ipynb",
      "provenance": [],
      "authorship_tag": "ABX9TyPNrnaVtxZ61e8kAlrs0enD",
      "include_colab_link": true
    },
    "kernelspec": {
      "name": "python3",
      "display_name": "Python 3"
    },
    "language_info": {
      "name": "python"
    }
  },
  "cells": [
    {
      "cell_type": "markdown",
      "metadata": {
        "id": "view-in-github",
        "colab_type": "text"
      },
      "source": [
        "<a href=\"https://colab.research.google.com/github/AJAbeSMU/FlowShop2/blob/main/testing_Codes.ipynb\" target=\"_parent\"><img src=\"https://colab.research.google.com/assets/colab-badge.svg\" alt=\"Open In Colab\"/></a>"
      ]
    },
    {
      "cell_type": "code",
      "execution_count": null,
      "metadata": {
        "colab": {
          "base_uri": "https://localhost:8080/"
        },
        "id": "1Ghd7FcWz0Jh",
        "outputId": "e30bd771-fdb2-49e0-db39-3fd9beaba709"
      },
      "outputs": [
        {
          "output_type": "stream",
          "name": "stdout",
          "text": [
            "(0,)\n"
          ]
        }
      ],
      "source": [
        "J = 1\n",
        "for m3 in permutations(range(J),J):\n",
        "  print(m3)"
      ]
    },
    {
      "cell_type": "code",
      "source": [
        "# A Python program to print all\n",
        "# permutations using library function\n",
        "from itertools import permutations\n",
        " \n",
        "# Get all permutations of [1, 2, 3, 4]\n",
        "perm = permutations([1, 2, 3, 4,])\n",
        " \n",
        "# Print the obtained permutations\n",
        "for i in list(perm):\n",
        "    print (i)\n",
        "    "
      ],
      "metadata": {
        "colab": {
          "base_uri": "https://localhost:8080/"
        },
        "id": "POFqQw5nIse9",
        "outputId": "4fa9d3d3-f551-4ce8-ee67-8944fd39f848"
      },
      "execution_count": null,
      "outputs": [
        {
          "output_type": "stream",
          "name": "stdout",
          "text": [
            "(1, 2, 3, 4)\n",
            "(1, 2, 4, 3)\n",
            "(1, 3, 2, 4)\n",
            "(1, 3, 4, 2)\n",
            "(1, 4, 2, 3)\n",
            "(1, 4, 3, 2)\n",
            "(2, 1, 3, 4)\n",
            "(2, 1, 4, 3)\n",
            "(2, 3, 1, 4)\n",
            "(2, 3, 4, 1)\n",
            "(2, 4, 1, 3)\n",
            "(2, 4, 3, 1)\n",
            "(3, 1, 2, 4)\n",
            "(3, 1, 4, 2)\n",
            "(3, 2, 1, 4)\n",
            "(3, 2, 4, 1)\n",
            "(3, 4, 1, 2)\n",
            "(3, 4, 2, 1)\n",
            "(4, 1, 2, 3)\n",
            "(4, 1, 3, 2)\n",
            "(4, 2, 1, 3)\n",
            "(4, 2, 3, 1)\n",
            "(4, 3, 1, 2)\n",
            "(4, 3, 2, 1)\n"
          ]
        }
      ]
    },
    {
      "cell_type": "code",
      "source": [
        "import numpy as np\n",
        "m = np.matrix([[7, 6, 5, 8], [5, 12, 4, 3], [2, 4, 5, 3]])\n",
        "print('Matrix is:\\n', m)"
      ],
      "metadata": {
        "id": "S2jNqLgbAMWw",
        "colab": {
          "base_uri": "https://localhost:8080/"
        },
        "outputId": "8b9d612d-1fdc-4f39-bd36-95dd4338bee5"
      },
      "execution_count": null,
      "outputs": [
        {
          "output_type": "stream",
          "name": "stdout",
          "text": [
            "Matrix is:\n",
            " [[ 7  6  5  8]\n",
            " [ 5 12  4  3]\n",
            " [ 2  4  5  3]]\n"
          ]
        }
      ]
    },
    {
      "cell_type": "code",
      "source": [
        "# importing numpy as np\n",
        "import numpy as np\n",
        "  \n",
        "  \n",
        "# creating first matrix\n",
        "A = np.array([7, 6, 5, 8])\n",
        "  \n",
        "# creating second matrix\n",
        "B = np.array([5, 12, 4, 3])\n",
        "\n",
        "# creating third matrix\n",
        "C = np.array([2, 4, 5, 3])\n",
        "  \n",
        "print(\"Printing elements of first matrix\")\n",
        "print(A)\n",
        "print(\"Printing elements of second matrix\")\n",
        "print(B)\n",
        "print(\"Printing elements of third matrix\")\n",
        "print(C)\n",
        "  \n",
        "# adding two matrix\n",
        "print(\"Addition of two matrix\")\n",
        "print(np.add(A, B))\n",
        "print(\"Addition of two matrix\")\n",
        "print(np.add(B, C))"
      ],
      "metadata": {
        "id": "KSmvmOivBD7F",
        "colab": {
          "base_uri": "https://localhost:8080/"
        },
        "outputId": "1542d6d9-ff0b-4ec9-e980-9766efb6b655"
      },
      "execution_count": null,
      "outputs": [
        {
          "output_type": "stream",
          "name": "stdout",
          "text": [
            "Printing elements of first matrix\n",
            "[7 6 5 8]\n",
            "Printing elements of second matrix\n",
            "[ 5 12  4  3]\n",
            "Printing elements of third matrix\n",
            "[2 4 5 3]\n",
            "Addition of two matrix\n",
            "[12 18  9 11]\n",
            "Addition of two matrix\n",
            "[ 7 16  9  6]\n"
          ]
        }
      ]
    },
    {
      "cell_type": "code",
      "source": [
        "# using min() + key\n",
        "# Row with Minimum element in Matrix \n",
        "res = min(np.add(A, B),np.add(B, C), key = min)\n",
        "  \n",
        "# printing result\n",
        "print (\"Minimum element sublist is : \" + str(res))"
      ],
      "metadata": {
        "colab": {
          "base_uri": "https://localhost:8080/"
        },
        "id": "upVMUXMbR2ay",
        "outputId": "4e102200-8a2f-4f61-f782-ecf3533120ef"
      },
      "execution_count": null,
      "outputs": [
        {
          "output_type": "stream",
          "name": "stdout",
          "text": [
            "Minimum element sublist is : [ 7 16  9  6]\n"
          ]
        }
      ]
    },
    {
      "cell_type": "code",
      "source": [
        "# import pandas module\n",
        "import pandas as pd\n",
        " \n",
        "# create a dataframe1\n",
        "# with 2 rows and 4 columns\n",
        "data1 = pd.DataFrame({\n",
        "    'Xi': [12, 18, 9, 11],\n",
        "    'Yi': [7, 16, 9, 6]\n",
        "})\n",
        "# display dataframe\n",
        "print(data1)\n",
        " \n",
        "# get the minimum in Yi  column\n",
        "print(data1['Yi'].min())\n",
        "\n"
      ],
      "metadata": {
        "colab": {
          "base_uri": "https://localhost:8080/"
        },
        "id": "Mo73IS32TeUS",
        "outputId": "e97e7612-63d4-457c-edd6-d46b8f781853"
      },
      "execution_count": null,
      "outputs": [
        {
          "output_type": "stream",
          "name": "stdout",
          "text": [
            "   Xi  Yi\n",
            "0  12   7\n",
            "1  18  16\n",
            "2   9   9\n",
            "3  11   6\n",
            "6\n"
          ]
        }
      ]
    },
    {
      "cell_type": "code",
      "source": [
        "# create a dataframe\n",
        "# with 2 rows and 3 columns\n",
        "data2 = pd.DataFrame({\n",
        "    'Xi': [12, 18, 9],\n",
        "    'Yi': [7, 16, 9]\n",
        "})\n",
        "# display dataframe\n",
        "print(data2)\n",
        " \n",
        "# get the minimum in Xi  column\n",
        "print(data2['Xi'].min())"
      ],
      "metadata": {
        "colab": {
          "base_uri": "https://localhost:8080/"
        },
        "id": "xz1F3XLqbptU",
        "outputId": "a27a5bc0-948d-41b3-e6d6-2965f58739fd"
      },
      "execution_count": null,
      "outputs": [
        {
          "output_type": "stream",
          "name": "stdout",
          "text": [
            "   Xi  Yi\n",
            "0  12   7\n",
            "1  18  16\n",
            "2   9   9\n",
            "9\n"
          ]
        }
      ]
    },
    {
      "cell_type": "code",
      "source": [
        "# create a dataframe\n",
        "# with 2 rows and 3 columns\n",
        "data3 = pd.DataFrame({\n",
        "    'Xi': [12, 18],\n",
        "    'Yi': [7, 16]\n",
        "})\n",
        "# display dataframe\n",
        "print(data3)\n",
        " \n",
        "# get the minimum in Yi  column\n",
        "print(data3['Yi'].min())"
      ],
      "metadata": {
        "colab": {
          "base_uri": "https://localhost:8080/"
        },
        "id": "njcjfUSybvcq",
        "outputId": "a4e15840-23b7-4d01-dad3-cf7f8372625f"
      },
      "execution_count": null,
      "outputs": [
        {
          "output_type": "stream",
          "name": "stdout",
          "text": [
            "   Xi  Yi\n",
            "0  12   7\n",
            "1  18  16\n",
            "7\n"
          ]
        }
      ]
    },
    {
      "cell_type": "code",
      "source": [
        "# create a dataframe\n",
        "# with 2 rows and 1 columns\n",
        "data = pd.DataFrame({\n",
        "    'Xi': [12],\n",
        "    'Yi': [7]\n",
        "})\n",
        "# display dataframe\n",
        "print(data)\n",
        " \n",
        "# get the minimum in Yi  column\n",
        "print(data['Xi'].min())"
      ],
      "metadata": {
        "colab": {
          "base_uri": "https://localhost:8080/"
        },
        "id": "-S3xzdWycQID",
        "outputId": "eb004ad7-29b9-4b24-d867-746854b93cdf"
      },
      "execution_count": null,
      "outputs": [
        {
          "output_type": "stream",
          "name": "stdout",
          "text": [
            "   Xi  Yi\n",
            "0  12   7\n",
            "12\n"
          ]
        }
      ]
    },
    {
      "cell_type": "code",
      "source": [
        "# Jobs in Optimal Sequence\n",
        "\n",
        "# Xi to Yi\n",
        "#  2 1 0 3\n",
        "# Job 3, Job 2, Job 1, Job 4\n",
        "\n"
      ],
      "metadata": {
        "id": "TdWgoaUncU_z"
      },
      "execution_count": null,
      "outputs": []
    }
  ]
}