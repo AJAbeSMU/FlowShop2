{
  "nbformat": 4,
  "nbformat_minor": 0,
  "metadata": {
    "colab": {
      "name": "PythonLearning.ipynb",
      "provenance": [],
      "include_colab_link": true
    },
    "kernelspec": {
      "name": "python3",
      "display_name": "Python 3"
    },
    "language_info": {
      "name": "python"
    }
  },
  "cells": [
    {
      "cell_type": "markdown",
      "metadata": {
        "id": "view-in-github",
        "colab_type": "text"
      },
      "source": [
        "<a href=\"https://colab.research.google.com/github/AJAbeSMU/FlowShop2/blob/main/PythonLearning.ipynb\" target=\"_parent\"><img src=\"https://colab.research.google.com/assets/colab-badge.svg\" alt=\"Open In Colab\"/></a>"
      ]
    },
    {
      "cell_type": "code",
      "execution_count": null,
      "metadata": {
        "id": "nHBIBd2I_JKT",
        "colab": {
          "base_uri": "https://localhost:8080/"
        },
        "outputId": "17c9fab8-6498-42e8-c80c-dfe5ec888071"
      },
      "outputs": [
        {
          "output_type": "stream",
          "name": "stdout",
          "text": [
            "[['Mon' '18' '20' '22' '17']\n",
            " ['Tue' '11' '18' '21' '18']\n",
            " ['Wed' '15' '21' '20' '19']\n",
            " ['Thu' '11' '20' '22' '21']\n",
            " ['Fri' '18' '17' '23' '22']\n",
            " ['Sat' '12' '22' '20' '18']\n",
            " ['Sun' '13' '15' '19' '16']]\n",
            "['Wed' '15' '21' '20' '19']\n",
            "20\n"
          ]
        }
      ],
      "source": [
        "from numpy import * \n",
        "from itertools import *\n",
        "import plotpy\n",
        "import pandas as pd\n",
        "\n",
        "\n",
        "# https://www.python.org/\n",
        "a = array([['Mon',18,20,22,17],['Tue',11,18,21,18],\n",
        "   ['Wed',15,21,20,19],['Thu',11,20,22,21],\n",
        "   ['Fri',18,17,23,22],['Sat',12,22,20,18],\n",
        "   ['Sun',13,15,19,16]])\n",
        "m = reshape(a,(7,5))\n",
        "print(m)\n",
        "print(m[2])\n",
        "print(m[2][3])"
      ]
    },
    {
      "cell_type": "code",
      "source": [
        ""
      ],
      "metadata": {
        "id": "jhyiGMaeZnsX"
      },
      "execution_count": null,
      "outputs": []
    },
    {
      "cell_type": "code",
      "source": [
        "for r in m:\n",
        "  print(r)\n",
        "  for c in r:\n",
        "    print(c,end=\"\")\n",
        "  print()"
      ],
      "metadata": {
        "id": "PPKKyRT8BZkX"
      },
      "execution_count": null,
      "outputs": []
    },
    {
      "cell_type": "code",
      "source": [
        "m4 = range(0,3)\n",
        "print(m4)"
      ],
      "metadata": {
        "id": "D5WCZHk_L3oc",
        "colab": {
          "base_uri": "https://localhost:8080/"
        },
        "outputId": "423f1340-f60f-49f3-c808-663d8d594008"
      },
      "execution_count": null,
      "outputs": [
        {
          "output_type": "stream",
          "name": "stdout",
          "text": [
            "range(0, 3)\n"
          ]
        }
      ]
    },
    {
      "cell_type": "code",
      "source": [
        "J = 4\n",
        "for m3 in permutations(range(J),J):\n",
        "  print(m3)"
      ],
      "metadata": {
        "id": "QAABeOB0Nkqx"
      },
      "execution_count": null,
      "outputs": []
    },
    {
      "cell_type": "code",
      "source": [
        "for x in range(0, 3):\n",
        "    print(\"We're on time %d\" % (x))\n",
        "    m2 = random.rand(3,2)\n",
        "    print(m2)"
      ],
      "metadata": {
        "id": "kGJeEmSwCRVH"
      },
      "execution_count": null,
      "outputs": []
    },
    {
      "cell_type": "code",
      "source": [
        "!pip install plotpy"
      ],
      "metadata": {
        "colab": {
          "base_uri": "https://localhost:8080/"
        },
        "id": "xYCIoTyZKfzg",
        "outputId": "5c535e96-20a3-4de9-a400-0432ffbb9642"
      },
      "execution_count": null,
      "outputs": [
        {
          "output_type": "stream",
          "name": "stdout",
          "text": [
            "Looking in indexes: https://pypi.org/simple, https://us-python.pkg.dev/colab-wheels/public/simple/\n",
            "Collecting plotpy\n",
            "  Downloading plotpy-1.2.0.tar.gz (6.0 MB)\n",
            "\u001b[K     |████████████████████████████████| 6.0 MB 5.0 MB/s \n",
            "\u001b[?25hRequirement already satisfied: numpy>=1.3 in /usr/local/lib/python3.7/dist-packages (from plotpy) (1.21.6)\n",
            "Requirement already satisfied: SciPy>=0.7 in /usr/local/lib/python3.7/dist-packages (from plotpy) (1.4.1)\n",
            "Requirement already satisfied: Pillow in /usr/local/lib/python3.7/dist-packages (from plotpy) (7.1.2)\n",
            "Collecting PythonQwt==0.9.0\n",
            "  Downloading PythonQwt-0.9.0-py2.py3-none-any.whl (730 kB)\n",
            "\u001b[K     |████████████████████████████████| 730 kB 42.4 MB/s \n",
            "\u001b[?25hCollecting h5py==2.8.0\n",
            "  Downloading h5py-2.8.0-cp37-cp37m-manylinux1_x86_64.whl (2.8 MB)\n",
            "\u001b[K     |████████████████████████████████| 2.8 MB 39.8 MB/s \n",
            "\u001b[?25hRequirement already satisfied: chardet in /usr/local/lib/python3.7/dist-packages (from plotpy) (3.0.4)\n",
            "Requirement already satisfied: six in /usr/local/lib/python3.7/dist-packages (from h5py==2.8.0->plotpy) (1.15.0)\n",
            "Requirement already satisfied: QtPy>=1.3 in /usr/local/lib/python3.7/dist-packages (from PythonQwt==0.9.0->plotpy) (2.1.0)\n",
            "Requirement already satisfied: packaging in /usr/local/lib/python3.7/dist-packages (from QtPy>=1.3->PythonQwt==0.9.0->plotpy) (21.3)\n",
            "Requirement already satisfied: pyparsing!=3.0.5,>=2.0.2 in /usr/local/lib/python3.7/dist-packages (from packaging->QtPy>=1.3->PythonQwt==0.9.0->plotpy) (3.0.9)\n",
            "Building wheels for collected packages: plotpy\n",
            "  Building wheel for plotpy (setup.py) ... \u001b[?25l\u001b[?25hdone\n",
            "  Created wheel for plotpy: filename=plotpy-1.2.0-cp37-cp37m-linux_x86_64.whl size=7386451 sha256=2c01032d4805374a2d8e10cbd65d4a79a1cd4e2ac33f496cc34c6b71f9e647e6\n",
            "  Stored in directory: /root/.cache/pip/wheels/cd/40/2a/df0b684e5f9309e48061909617ab9518787b5d87a6deb94e08\n",
            "Successfully built plotpy\n",
            "Installing collected packages: PythonQwt, h5py, plotpy\n",
            "  Attempting uninstall: h5py\n",
            "    Found existing installation: h5py 3.1.0\n",
            "    Uninstalling h5py-3.1.0:\n",
            "      Successfully uninstalled h5py-3.1.0\n",
            "\u001b[31mERROR: pip's dependency resolver does not currently take into account all the packages that are installed. This behaviour is the source of the following dependency conflicts.\n",
            "tensorflow 2.8.2+zzzcolab20220527125636 requires h5py>=2.9.0, but you have h5py 2.8.0 which is incompatible.\u001b[0m\n",
            "Successfully installed PythonQwt-0.9.0 h5py-2.8.0 plotpy-1.2.0\n"
          ]
        }
      ]
    }
  ]
}